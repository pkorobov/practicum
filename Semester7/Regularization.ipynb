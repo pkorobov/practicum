{
 "cells": [
  {
   "cell_type": "markdown",
   "metadata": {},
   "source": [
    "# Регуляризация"
   ]
  },
  {
   "cell_type": "code",
   "execution_count": null,
   "metadata": {},
   "outputs": [],
   "source": [
    "%matplotlib inline\n",
    "import numpy as np\n",
    "import matplotlib.pyplot as plt"
   ]
  },
  {
   "cell_type": "markdown",
   "metadata": {},
   "source": [
    "Возьмём матрицу $diag(10^6, 10^{-6})$ и матрицу перехода в другой базис \n",
    "$C = \n",
    "\\begin{pmatrix}\n",
    "  1& 2\\\\\n",
    "  0& 3\n",
    "\\end{pmatrix}$\n",
    "\n",
    "Получим следующую матрицу:\n",
    "$A = \n",
    "\\begin{pmatrix}\n",
    "  10^6& 2 \\, \\Bigr(10^6 + 10^{-6}\\Bigl)\\\\\n",
    "  0& 10^{-6}\n",
    "\\end{pmatrix}$"
   ]
  },
  {
   "cell_type": "code",
   "execution_count": 3,
   "metadata": {},
   "outputs": [],
   "source": [
    "A = np.array([[1e6, 2 * (1e6 - 1e-6)], [0, 1e-6]])\n",
    "values, vectors = np.linalg.eig(A)\n",
    "b = vectors[0] + 10e-6 * vectors[1]"
   ]
  },
  {
   "cell_type": "code",
   "execution_count": 9,
   "metadata": {},
   "outputs": [
    {
     "name": "stdout",
     "output_type": "stream",
     "text": [
      "Матрица:  [[1.e+06 2.e+06]\n",
      " [0.e+00 1.e-06]]\n",
      "Столбец свободных членов:  [[ 1.00000200e+00]\n",
      " [-1.00000056e-06]]\n"
     ]
    }
   ],
   "source": [
    "v1 = np.array([1, 0]).reshape(2, 1)\n",
    "v2 = np.array([2, -1]).reshape(2, 1)\n",
    "\n",
    "np.random.seed(2)\n",
    "b = v1 + v2 * 1e-6 + np.random.randn(2, 1) * 1e-11\n",
    "\n",
    "print(\"Матрица: \", A)\n",
    "print(\"Столбец свободных членов: \", b)"
   ]
  },
  {
   "cell_type": "code",
   "execution_count": 10,
   "metadata": {},
   "outputs": [],
   "source": [
    "x = np.array([2 + 10e-6, -1]).reshape(2, 1)"
   ]
  },
  {
   "cell_type": "code",
   "execution_count": 11,
   "metadata": {},
   "outputs": [
    {
     "name": "stdout",
     "output_type": "stream",
     "text": [
      "[[ 2.00000213]\n",
      " [-1.00000056]]\n"
     ]
    }
   ],
   "source": [
    "alphas = np.arange(-1e-11, 1e-11, 1e-14)\n",
    "res = []\n",
    "\n",
    "print(np.linalg.solve(A,b))\n",
    "for alpha in alphas:\n",
    "    res.append(np.linalg.norm(np.linalg.solve(A + alpha * np.eye(2),b) - x))"
   ]
  },
  {
   "cell_type": "code",
   "execution_count": 12,
   "metadata": {},
   "outputs": [
    {
     "data": {
      "text/plain": [
       "[<matplotlib.lines.Line2D at 0x7f6537f554a8>]"
      ]
     },
     "execution_count": 12,
     "metadata": {},
     "output_type": "execute_result"
    },
    {
     "data": {
      "image/png": "[encoded data removed]",
      "text/plain": [
       "<matplotlib.figure.Figure at 0x7f653a0c1c88>"
      ]
     },
     "metadata": {},
     "output_type": "display_data"
    }
   ],
   "source": [
    "plt.plot(alphas, res)"
   ]
  },
  {
   "cell_type": "code",
   "execution_count": 13,
   "metadata": {},
   "outputs": [
    {
     "name": "stdout",
     "output_type": "stream",
     "text": [
      "Оптимальное значение альфа: -3.0399999999998885e-12\n"
     ]
    }
   ],
   "source": [
    "print(\"Оптимальное значение альфа:\", alphas[np.argmin(res)])"
   ]
  }
 ],
 "metadata": {
  "kernelspec": {
   "display_name": "Python 3",
   "language": "python",
   "name": "python3"
  },
  "language_info": {
   "codemirror_mode": {
    "name": "ipython",
    "version": 3
   },
   "file_extension": ".py",
   "mimetype": "text/x-python",
   "name": "python",
   "nbconvert_exporter": "python",
   "pygments_lexer": "ipython3",
   "version": "3.6.4"
  }
 },
 "nbformat": 4,
 "nbformat_minor": 2
}
