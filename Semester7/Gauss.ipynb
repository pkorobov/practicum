{
 "cells": [
  {
   "cell_type": "markdown",
   "metadata": {},
   "source": [
    "# Интегрирование с помощью формул Гаусса"
   ]
  },
  {
   "cell_type": "code",
   "execution_count": 87,
   "metadata": {},
   "outputs": [],
   "source": [
    "import math"
   ]
  },
  {
   "cell_type": "markdown",
   "metadata": {},
   "source": [
    "Многочлен лежандра третьей степени:\n",
    "\n",
    "$$P(x) = x \\left(x^2 - \\frac35 \\right)$$\n",
    "$$x_1 = -\\sqrt{\\dfrac{3}{5}}, \\, x_2 = 0, \\, x_3 = \\sqrt{\\dfrac{3}{5}}$$\n",
    "\n",
    "Смасштабируем х на отрезок $[a, b]$.\n",
    "\n",
    "$$y(x) = x \\dfrac{b - a}2 + \\dfrac{b + a}2$$\n",
    "\n",
    "Возьмём $a = 3, b = 11$, $f(x) = \\sinh(x)$\n"
   ]
  },
  {
   "cell_type": "code",
   "execution_count": 104,
   "metadata": {},
   "outputs": [],
   "source": [
    "def y(x, a, b):\n",
    "    return x * (b - a) / 2 + (b + a) / 2\n",
    "\n",
    "#формула гаусса\n",
    "def Gauss(f, a, b):\n",
    "    value = 0\n",
    "    x = [-math.sqrt(3/5), 0, math.sqrt(3/5)]\n",
    "    c = [5 / 9, 8 / 9, 5 / 9]\n",
    "    for i in range(3):\n",
    "        value += c[i] * f(y(x[i], a, b))\n",
    "    return value * (b - a) / 2\n",
    "\n",
    "def Integrate(h, f, a, b):\n",
    "    value = 0\n",
    "    i = 0\n",
    "    while(abs(a + h * i - b) > 1e-10):\n",
    "        value += Gauss(f, a + h * i, a + h * (i + 1)) \n",
    "        i += 1\n",
    "    return value\n",
    "\n",
    "#реализация алгоритма\n",
    "def solve(a, b, f, epsA = 1e-5, epsO = 1e-5):\n",
    "    alpha, beta = a, b\n",
    "    I = E = 0\n",
    "    while alpha < beta:        \n",
    "        h = beta - alpha\n",
    "        I_h = Integrate(h, f, alpha, beta)\n",
    "        I_hdiv2 = Integrate(h / 2, f, alpha, beta)\n",
    "        I_hdiv4 = Integrate(h / 4, f, alpha, beta)                \n",
    "#Погрешность методом Эйткена\n",
    "        delta = ((I_hdiv2 - I_h)**2 / (2 * I_hdiv2 - I_h - I_hdiv4))\n",
    "        \n",
    "        if abs(delta) < max(epsA, epsO * abs(I)) * h / (b - a):\n",
    "            alpha = beta\n",
    "            beta = min(beta + h, b)\n",
    "            I = I + I_hdiv2 + delta\n",
    "            E = E + abs((I_hdiv2 - I_h)**2 / (2 * I_hdiv2 - I_h - I_hdiv4))\n",
    "\n",
    "        if abs(delta) > max(epsA, epsO * abs(I)) * h / (b - a):\n",
    "            beta = (alpha + beta) / 2\n",
    "\n",
    "        elif abs(delta) < max(epsA, epsO * abs(I)) / 2 ** 3 * h / (b - a):\n",
    "            beta = min(alpha + 2 * h, b)\n",
    "\n",
    "    return I, E"
   ]
  },
  {
   "cell_type": "code",
   "execution_count": 105,
   "metadata": {},
   "outputs": [
    {
     "name": "stdout",
     "output_type": "stream",
     "text": [
      "S(f) = 267.245799, суммарная погрешность главного члена равна 0.000030\n"
     ]
    }
   ],
   "source": [
    "a, b = 0, 2 * math.pi\n",
    "f = lambda x: math.cos(x) * math.exp(x)\n",
    "res = solve(a, b, f)\n",
    "\n",
    "print(\"S(f) = %f, суммарная погрешность главного члена равна %f\" % (res[0], res[1]))"
   ]
  },
  {
   "cell_type": "markdown",
   "metadata": {},
   "source": [
    "Как и ожидалось $$\\int_0^{2\\pi} e^x \\cos x dx = e^{\\pi} \\sinh \\pi \\approx 267.25$$"
   ]
  },
  {
   "cell_type": "code",
   "execution_count": 106,
   "metadata": {},
   "outputs": [
    {
     "data": {
      "text/plain": [
       "267.24582776238236"
      ]
     },
     "execution_count": 106,
     "metadata": {},
     "output_type": "execute_result"
    }
   ],
   "source": [
    "math.exp(math.pi) * math.sinh(math.pi)"
   ]
  },
  {
   "cell_type": "code",
   "execution_count": null,
   "metadata": {},
   "outputs": [],
   "source": []
  }
 ],
 "metadata": {
  "kernelspec": {
   "display_name": "Python 3",
   "language": "python",
   "name": "python3"
  },
  "language_info": {
   "codemirror_mode": {
    "name": "ipython",
    "version": 3
   },
   "file_extension": ".py",
   "mimetype": "text/x-python",
   "name": "python",
   "nbconvert_exporter": "python",
   "pygments_lexer": "ipython3",
   "version": "3.6.4"
  }
 },
 "nbformat": 4,
 "nbformat_minor": 2
}
