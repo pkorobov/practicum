{
 "cells": [
  {
   "cell_type": "code",
   "execution_count": 1,
   "metadata": {},
   "outputs": [],
   "source": [
    "%matplotlib inline\n",
    "import numpy as np\n",
    "import matplotlib.pyplot as plt"
   ]
  },
  {
   "cell_type": "markdown",
   "metadata": {},
   "source": [
    "# Итерационный метод Якоби"
   ]
  },
  {
   "cell_type": "code",
   "execution_count": 2,
   "metadata": {},
   "outputs": [],
   "source": [
    "n = 5\n",
    "eps = 1e-5"
   ]
  },
  {
   "cell_type": "code",
   "execution_count": 3,
   "metadata": {},
   "outputs": [
    {
     "name": "stdout",
     "output_type": "stream",
     "text": [
      "Матрица:\n",
      " [[217.5029557  -23.4607199  104.81435639 -18.93284763 -20.68029081]\n",
      " [ -9.80821224 140.99443842  -3.07215244   3.41673439 -10.04076683]\n",
      " [-37.2122863   10.23790595  87.92795592  19.48732739  10.91652042]\n",
      " [ 27.23438673  -4.64775735  40.77526921 129.44422486 -10.70200209]\n",
      " [ -4.97912484  -3.31746512   9.67107946  -5.88936192 123.05479684]]\n",
      "Точное решение:\n",
      " [[ 0.00867372]\n",
      " [ 0.00451461]\n",
      " [-0.01139323]\n",
      " [ 0.015695  ]\n",
      " [ 0.00789998]]\n"
     ]
    }
   ],
   "source": [
    "np.random.seed(40)\n",
    "\n",
    "#Задаём положительно определённую матрицу\n",
    "A = np.zeros((n, n))\n",
    "for i in range(n):\n",
    "    A[i][i] = np.random.uniform(100, 200, 1)\n",
    "C = np.random.randn(n, n)\n",
    "A = np.dot(np.linalg.inv(C), np.dot(A, C))\n",
    "print(\"Матрица:\\n\", A)\n",
    "\n",
    "b = np.random.randn(n, 1)\n",
    "x = np.linalg.solve(A, b)\n",
    "print(\"Точное решение:\\n\", x)"
   ]
  },
  {
   "cell_type": "code",
   "execution_count": 4,
   "metadata": {},
   "outputs": [],
   "source": [
    "def solve(A, b, alpha, eps):\n",
    "    x_approx = np.zeros((n, 1))\n",
    "    iters = 0\n",
    "    while np.linalg.norm(alpha * (np.dot(A, x_approx) - b)) > eps:\n",
    "        x_approx = x_approx - alpha * (np.dot(A, x_approx) - b)\n",
    "        iters += 1\n",
    "    return iters, x_approx\n",
    "    \n",
    "def solve_iter_fix(A, b, alpha, eps, iters):\n",
    "    x_approx = np.zeros((n, 1))\n",
    "    for i in range(iters):\n",
    "        x_approx = x_approx - alpha * (np.dot(A, x_approx) - b)\n",
    "    return x_approx"
   ]
  },
  {
   "cell_type": "markdown",
   "metadata": {},
   "source": [
    "### Число итераций для сходимости в зависимости от $\\alpha$:"
   ]
  },
  {
   "cell_type": "code",
   "execution_count": 5,
   "metadata": {},
   "outputs": [
    {
     "data": {
      "image/png": "[encoded data removed]",
      "text/plain": [
       "<matplotlib.figure.Figure at 0x7fa3a8db7f28>"
      ]
     },
     "metadata": {},
     "output_type": "display_data"
    }
   ],
   "source": [
    "eigen_values, eigen_vectors = np.linalg.eig(A)\n",
    "eigen_values_abs = np.abs(eigen_values)\n",
    "m, M = np.min(eigen_values_abs), np.max(eigen_values_abs)\n",
    "alpha_opt = 2 / (m + M)\n",
    "\n",
    "alphas = np.arange(0, alpha_opt * 1.5, 0.01 * alpha_opt)\n",
    "res = []\n",
    "for alpha in alphas:\n",
    "    new_res, _ = solve(A, b, alpha, eps)\n",
    "    res.append(new_res)\n",
    "\n",
    "plt.figure()\n",
    "plt.plot(alphas, res)\n",
    "plt.plot(alpha_opt, solve(A, b, alpha_opt, eps)[0], 'o')\n",
    "plt.show()"
   ]
  },
  {
   "cell_type": "markdown",
   "metadata": {},
   "source": [
    "### Зависимость погрешности от $\\alpha$ при $iters = 100$:"
   ]
  },
  {
   "cell_type": "code",
   "execution_count": 9,
   "metadata": {},
   "outputs": [
    {
     "data": {
      "image/png": "[encoded data removed]",
      "text/plain": [
       "<matplotlib.figure.Figure at 0x7fa3a6d4ec18>"
      ]
     },
     "metadata": {},
     "output_type": "display_data"
    }
   ],
   "source": [
    "eigen_values, eigen_vectors = np.linalg.eig(A)\n",
    "eigen_values_abs = np.abs(eigen_values)\n",
    "m, M = np.min(eigen_values_abs), np.max(eigen_values_abs)\n",
    "alpha_opt = 2 / (m + M)\n",
    "iters = 100\n",
    "\n",
    "res = []\n",
    "alphas = np.arange(0, alpha_opt * 1.5, 0.01 * alpha_opt)\n",
    "\n",
    "for alpha in alphas:\n",
    "    x_approx = solve_iter_fix(A, b, alpha, eps, iters)\n",
    "    res.append(np.linalg.norm(x_approx - x))\n",
    "\n",
    "plt.figure()\n",
    "x_approx = solve_iter_fix(A, b, alpha, eps, iters)\n",
    "plt.plot(alpha_opt, np.linalg.norm(x_approx - x), 'o')\n",
    "plt.plot(alphas, res)\n",
    "plt.show()"
   ]
  },
  {
   "cell_type": "code",
   "execution_count": null,
   "metadata": {},
   "outputs": [],
   "source": []
  }
 ],
 "metadata": {
  "kernelspec": {
   "display_name": "Python 3",
   "language": "python",
   "name": "python3"
  },
  "language_info": {
   "codemirror_mode": {
    "name": "ipython",
    "version": 3
   },
   "file_extension": ".py",
   "mimetype": "text/x-python",
   "name": "python",
   "nbconvert_exporter": "python",
   "pygments_lexer": "ipython3",
   "version": "3.6.4"
  }
 },
 "nbformat": 4,
 "nbformat_minor": 2
}
