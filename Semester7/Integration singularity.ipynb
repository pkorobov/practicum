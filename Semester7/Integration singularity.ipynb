{
 "cells": [
  {
   "cell_type": "markdown",
   "metadata": {},
   "source": [
    "# Адаптивный алгоритм интегрирования с помощью формул Ньютона-Котеса.\n",
    "# Интеграл с особыми точками.\n"
   ]
  },
  {
   "cell_type": "code",
   "execution_count": 3,
   "metadata": {},
   "outputs": [],
   "source": [
    "import math"
   ]
  },
  {
   "cell_type": "markdown",
   "metadata": {},
   "source": [
    "### Задача - посчитать интеграл $\\int_0^1 \\frac{\\ln(1 - x^2)}{x}dx$. \n",
    "\n",
    "Для этого разложим его в сумму трёх интегралов: первый интеграл ограничен в нуле, но подынтегральная функция неопределена в этой точке, поэтому доопределим подынтегральную функцию по непрерывности в точке $0$. У второго интеграла нет особых точек. В последнем интеграле сделаем отступ от точки $1$ так, чтобы он посчитался с нужной погрешностью.\n",
    "\n",
    "$$\\int_0^1 \\frac{\\ln(1 - x^2)}{x}dx = \\int_0^{\\frac12} \\frac{\\ln(1 - x^2)}{x}dx + \\int_{\\frac12}^1 \\frac{\\ln(1 + x)}{x}dx + \\int_{\\frac12}^1 \\frac{\\ln(1 - x)}{x}dx$$\n",
    "\n",
    "Промажорируем остаток интеграла в окрестности особой точки. \n",
    "\n",
    "Положим $\\varepsilon > 0$ - некоторое достаточно малое число. Воспользуемся тем, что любая степенная функция растёт быстрее, чем логарифм. Начиная с некоторого $\\epsilon$ будет выполнено неравенство:\n",
    "\n",
    "$$ \\left|\\int_{1 - \\varepsilon}^1 \\frac{\\ln(1 - x)}{x}dx \\right| \\le \\int_{1 - \\varepsilon}^1 \\frac{dx}{(1 - \\varepsilon)\\sqrt{1 - x}} = \n",
    "\\frac1{1 - \\varepsilon} \\int_0^{\\varepsilon} \\frac{dt}{\\sqrt{t}} = \\frac1{2(1 - \\varepsilon)}\\sqrt{\\varepsilon}  \\le \\frac{\\delta}2$$\n",
    "\n",
    "Допустим, нужно посчитать интеграл с некоторой погрешностью $\\delta = 10^{-4}$.\n",
    "\n",
    "Оценим хвост интеграла величиной $\\delta * 0.5$.\n",
    "\n",
    "Решая квадратное неравенство получаем $\\sqrt{\\varepsilon} \\le \\dfrac{-\\frac1{\\delta * 0.5} + \\sqrt{\\frac1{\\delta^2 * 0.25} + 4}}{2}$\n",
    "\n",
    "Следовательно, $\\varepsilon$ можем взять следующим:"
   ]
  },
  {
   "cell_type": "code",
   "execution_count": 4,
   "metadata": {},
   "outputs": [],
   "source": [
    "delta = 1e-4\n",
    "\n",
    "eps = (-1/(delta * 0.5) + math.sqrt(1/delta**2 / 0.25 + 4)) ** 2\n"
   ]
  },
  {
   "cell_type": "code",
   "execution_count": 5,
   "metadata": {},
   "outputs": [
    {
     "data": {
      "text/plain": [
       "[<matplotlib.lines.Line2D at 0x7fe5b5ae2198>]"
      ]
     },
     "execution_count": 5,
     "metadata": {},
     "output_type": "execute_result"
    }
   ],
   "source": [
    "import numpy as np\n",
    "import matplotlib.pyplot as plt\n",
    "xx = np.linspace(0 + 1e-1, 1, 50)\n",
    "plt.plot(xx, -np.log(xx))\n",
    "g = lambda x: 1 / x**0.5\n",
    "plt.plot(xx, g(xx))"
   ]
  },
  {
   "cell_type": "code",
   "execution_count": 21,
   "metadata": {},
   "outputs": [],
   "source": [
    "#формула пярмоугольников\n",
    "def Integrate(h, f, a, b):\n",
    "    value = 0\n",
    "    i = 0\n",
    "    while(abs(a + h * i - b) > 1e-10):\n",
    "        value += f(a + h * i + h / 2) \n",
    "        i += 1\n",
    "    return value * h\n",
    "\n",
    "#реализация алгоритма\n",
    "def solve(a, b, f, epsA = 1e-4 / 2, epsO = 1e-4):\n",
    "    alpha, beta = a, b\n",
    "    I = E = 0\n",
    "    while alpha < beta:        \n",
    "        h = beta - alpha\n",
    "        I_h = Integrate(h, f, alpha, beta)\n",
    "        I_hdiv2 = Integrate(h / 2, f, alpha, beta)\n",
    "                \n",
    "        delta = (I_hdiv2 - I_h) / (2**3 - 1) # p = 3\n",
    "        \n",
    "        if abs(delta) < max(epsA, epsO * abs(I)) * h / (b - a):\n",
    "            alpha = beta\n",
    "            beta = min(beta + h, b)\n",
    "            I = I + I_hdiv2 + delta\n",
    "            E = E + delta\n",
    "            \n",
    "        if abs(delta) > max(epsA, epsO * abs(I)) * h / (b - a):\n",
    "            beta = (alpha + beta) / 2\n",
    "\n",
    "        elif abs(delta) < max(epsA, epsO * abs(I)) / 2 ** 3 * h / (b - a):\n",
    "            beta = min(alpha + 2 * h, b)\n",
    "\n",
    "    return I, E"
   ]
  },
  {
   "cell_type": "code",
   "execution_count": 22,
   "metadata": {},
   "outputs": [
    {
     "data": {
      "text/plain": [
       "-0.8224283372759821"
      ]
     },
     "execution_count": 22,
     "metadata": {},
     "output_type": "execute_result"
    }
   ],
   "source": [
    "ans = 0\n",
    "f = lambda x: 0 if x == 0 else math.log(1 - x**2) / x\n",
    "ans += solve(0, 0.5, f)[0]\n",
    "f = lambda x: math.log(1 + x) / x\n",
    "ans += solve(0.5, 1, f)[0]\n",
    "f = lambda x: math.log(1 - x) / x\n",
    "ans += solve(0.5, 1 - eps, f)[0]\n",
    "ans"
   ]
  },
  {
   "cell_type": "markdown",
   "metadata": {},
   "source": [
    "Как и ожидалось $S(f)\\approx -\\dfrac{\\pi^2}{12}$."
   ]
  },
  {
   "cell_type": "code",
   "execution_count": 23,
   "metadata": {},
   "outputs": [
    {
     "data": {
      "text/plain": [
       "-0.8224670334241132"
      ]
     },
     "execution_count": 23,
     "metadata": {},
     "output_type": "execute_result"
    }
   ],
   "source": [
    "-math.pi ** 2 / 12"
   ]
  },
  {
   "cell_type": "code",
   "execution_count": null,
   "metadata": {},
   "outputs": [],
   "source": []
  },
  {
   "cell_type": "code",
   "execution_count": null,
   "metadata": {},
   "outputs": [],
   "source": [
    "\n",
    "\n",
    "\n",
    "\n",
    "\n",
    "\n",
    "\n",
    "\n",
    "\n",
    "\n",
    "\n",
    "\n",
    "\n",
    "\n",
    "\n",
    "\n",
    "\n",
    "\n",
    "\n",
    "\n"
   ]
  }
 ],
 "metadata": {
  "kernelspec": {
   "display_name": "Python 3",
   "language": "python",
   "name": "python3"
  },
  "language_info": {
   "codemirror_mode": {
    "name": "ipython",
    "version": 3
   },
   "file_extension": ".py",
   "mimetype": "text/x-python",
   "name": "python",
   "nbconvert_exporter": "python",
   "pygments_lexer": "ipython3",
   "version": "3.6.4"
  }
 },
 "nbformat": 4,
 "nbformat_minor": 2
}
