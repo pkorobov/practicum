{
 "cells": [
  {
   "cell_type": "markdown",
   "metadata": {},
   "source": [
    "# Адаптивный алгоритм интегрирования с помощью формул Ньютона-Котеса"
   ]
  },
  {
   "cell_type": "code",
   "execution_count": 3,
   "metadata": {},
   "outputs": [],
   "source": [
    "import math"
   ]
  },
  {
   "cell_type": "code",
   "execution_count": 56,
   "metadata": {},
   "outputs": [],
   "source": [
    "#формула пярмоугольников\n",
    "def Integrate(h, f, a, b):\n",
    "    value = 0\n",
    "    i = 0\n",
    "    while(abs(a + h * i - b) > 1e-10):\n",
    "        value += f(a + h * i + h / 2) \n",
    "        i += 1\n",
    "    return value * h\n",
    "\n",
    "#реализация алгоритма\n",
    "def solve(a, b, f, epsA = 1e-6, epsO = 1e-6):\n",
    "    alpha, beta = a, b\n",
    "    I = E = 0\n",
    "    while alpha < beta:\n",
    "        h = beta - alpha\n",
    "        I_h, I_hdiv2 = Integrate(h, f, alpha, beta), Integrate(h / 2, f, alpha, beta)\n",
    "        delta = (I_hdiv2 - I_h) / (2**3 - 1) # p = 3\n",
    "        if abs(delta) < max(epsA, epsO * abs(I)) * h / (b - a):\n",
    "            alpha = beta\n",
    "            beta = b\n",
    "            I = I + I_hdiv2 + delta\n",
    "            E = E + delta\n",
    "        else:\n",
    "            beta = (alpha + beta) / 2\n",
    "    return I, E"
   ]
  },
  {
   "cell_type": "code",
   "execution_count": 57,
   "metadata": {},
   "outputs": [
    {
     "data": {
      "text/plain": [
       "(267.24581145129923, 1.223414270334899e-05)"
      ]
     },
     "execution_count": 57,
     "metadata": {},
     "output_type": "execute_result"
    }
   ],
   "source": [
    "a, b = 0, 2 * math.pi\n",
    "f = lambda x: math.cos(x) * math.exp(x)\n",
    "solve(a, b, f)"
   ]
  },
  {
   "cell_type": "markdown",
   "metadata": {},
   "source": [
    "Как и ожидалось $$\\int_0^{2\\pi} e^x \\cos x dx = e^{\\pi} \\sinh \\pi \\approx 267.25$$"
   ]
  },
  {
   "cell_type": "code",
   "execution_count": 58,
   "metadata": {},
   "outputs": [
    {
     "data": {
      "text/plain": [
       "267.24582776238236"
      ]
     },
     "execution_count": 58,
     "metadata": {},
     "output_type": "execute_result"
    }
   ],
   "source": [
    "math.exp(math.pi) * math.sinh(math.pi)"
   ]
  }
 ],
 "metadata": {
  "kernelspec": {
   "display_name": "Python 3",
   "language": "python",
   "name": "python3"
  },
  "language_info": {
   "codemirror_mode": {
    "name": "ipython",
    "version": 3
   },
   "file_extension": ".py",
   "mimetype": "text/x-python",
   "name": "python",
   "nbconvert_exporter": "python",
   "pygments_lexer": "ipython3",
   "version": "3.6.4"
  }
 },
 "nbformat": 4,
 "nbformat_minor": 2
}
